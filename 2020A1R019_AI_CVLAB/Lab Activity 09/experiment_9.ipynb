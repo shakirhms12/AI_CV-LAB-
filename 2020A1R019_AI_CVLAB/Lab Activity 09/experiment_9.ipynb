{
 "cells": [
  {
   "cell_type": "code",
   "execution_count": 1,
   "id": "af7f2e6f",
   "metadata": {},
   "outputs": [],
   "source": [
    "import cv2\n",
    "import numpy as np"
   ]
  },
  {
   "cell_type": "code",
   "execution_count": 2,
   "id": "3f6627c1",
   "metadata": {},
   "outputs": [],
   "source": [
    "# load models\n",
    "face_cascade = cv2.CascadeClassifier(cv2.data.haarcascades + 'haarcascade_frontalface_default.xml')\n",
    "eye_cascade = cv2.CascadeClassifier(cv2.data.haarcascades + 'haarcascade_eye.xml')\n",
    "smile_cascade = cv2.CascadeClassifier(cv2.data.haarcascades + 'haarcascade_smile.xml')"
   ]
  },
  {
   "cell_type": "code",
   "execution_count": 3,
   "id": "52998af0",
   "metadata": {},
   "outputs": [],
   "source": [
    "img = cv2.imread(\"family.jpg\")  # Load image\n",
    "cv2.imshow(\"Image\", img)  # Display the image\n",
    "cv2.waitKey(0)  # Wait for a key press\n",
    "cv2.destroyAllWindows()  # Close all windows\n"
   ]
  },
  {
   "cell_type": "code",
   "execution_count": 4,
   "id": "e106ec6c",
   "metadata": {},
   "outputs": [],
   "source": [
    "gray = cv2.cvtColor(img, cv2.COLOR_BGR2GRAY)  # Convert to grayscale\n",
    "cv2.imshow(\"Grayscale Image\", gray)  # Display the grayscale image\n",
    "cv2.waitKey(0)  # Wait for a key press\n",
    "cv2.destroyAllWindows()  # Close all windows"
   ]
  },
  {
   "cell_type": "code",
   "execution_count": 5,
   "id": "832ce0eb",
   "metadata": {},
   "outputs": [],
   "source": [
    "# detect\n",
    "face_cascade = cv2.CascadeClassifier(cv2.data.haarcascades + 'haarcascade_frontalface_default.xml')\n",
    "eye_cascade = cv2.CascadeClassifier(cv2.data.haarcascades + 'haarcascade_eye.xml')\n",
    "smile_cascade = cv2.CascadeClassifier(cv2.data.haarcascades + 'haarcascade_smile.xml')"
   ]
  },
  {
   "cell_type": "code",
   "execution_count": 6,
   "id": "808023f2",
   "metadata": {},
   "outputs": [],
   "source": [
    "faces = face_cascade.detectMultiScale(gray, 1.3, 5)"
   ]
  },
  {
   "cell_type": "code",
   "execution_count": 7,
   "id": "22efcb9f",
   "metadata": {},
   "outputs": [],
   "source": [
    "# draw bounding boxes for each face detected\n",
    "for (x,y,w,h) in faces:\n",
    "    img = cv2.rectangle(img, (x,y), (x + w, y + h), (255,0,0), 2)\n",
    "    roi_gray = gray[y:y+h, x:x+w] # roi: region of interest\n",
    "    roi_color = img[y:y+h, x:x+w]\n",
    "    eyes = eye_cascade.detectMultiScale(roi_gray)\n",
    "    for (ex,ey,ew,eh) in eyes:\n",
    "        cv2.rectangle(roi_color,(ex,ey),(ex+ew,ey+eh),(0,255,0),2)"
   ]
  },
  {
   "cell_type": "code",
   "execution_count": 8,
   "id": "1edfeb0d",
   "metadata": {},
   "outputs": [],
   "source": [
    "cv2.imshow(\"Image\", img)\n",
    "cv2.waitKey(0)\n",
    "cv2.destroyAllWindows()"
   ]
  },
  {
   "cell_type": "code",
   "execution_count": 9,
   "id": "8306228d",
   "metadata": {},
   "outputs": [],
   "source": [
    "img = cv2.imread(\"family.jpg\")  # Load image\n",
    "cv2.imshow(\"Image\", img)  # Display the image\n",
    "cv2.waitKey(0)  # Wait for a key press\n",
    "cv2.destroyAllWindows()  # Close all windows"
   ]
  },
  {
   "cell_type": "code",
   "execution_count": 10,
   "id": "96667fbd",
   "metadata": {},
   "outputs": [],
   "source": [
    "gray = cv2.cvtColor(img, cv2.COLOR_BGR2GRAY) # convert to gray scale"
   ]
  },
  {
   "cell_type": "code",
   "execution_count": 11,
   "id": "77c1eb89",
   "metadata": {},
   "outputs": [],
   "source": [
    "# detect\n",
    "faces = face_cascade.detectMultiScale(gray, 1.3, 5)\n"
   ]
  },
  {
   "cell_type": "code",
   "execution_count": 12,
   "id": "bedfe63c",
   "metadata": {},
   "outputs": [],
   "source": [
    "# draw bounding boxes for each face detected\n",
    "for (x,y,w,h) in faces:\n",
    "    img = cv2.rectangle(img, (x,y), (x + w, y + h), (255,0,0), 2)\n",
    "    roi_gray = gray[y:y+h, x:x+w] # roi: region of interest\n",
    "    roi_color = img[y:y+h, x:x+w]\n",
    "\n",
    "    eyes = eye_cascade.detectMultiScale(roi_gray)\n",
    "    for (ex,ey,ew,eh) in eyes:\n",
    "      cv2.rectangle(roi_color,(ex,ey),(ex+ew,ey+eh),(0,255,0),2)\n",
    "\n",
    "    smiles = smile_cascade.detectMultiScale(roi_gray)\n",
    "    for (sx, sy, sw, sh) in smiles:\n",
    "      cv2.rectangle(roi_color, (sx, sy), ((sx + sw), (sy + sh)), (0, 0, 255), 2)"
   ]
  },
  {
   "cell_type": "code",
   "execution_count": 13,
   "id": "b69343e8",
   "metadata": {},
   "outputs": [],
   "source": [
    "cv2.imshow(\"Image\", img)\n",
    "cv2.waitKey(0)\n",
    "cv2.destroyAllWindows()"
   ]
  },
  {
   "cell_type": "code",
   "execution_count": null,
   "id": "0b7bb2f6",
   "metadata": {},
   "outputs": [],
   "source": []
  }
 ],
 "metadata": {
  "kernelspec": {
   "display_name": "Python 3 (ipykernel)",
   "language": "python",
   "name": "python3"
  },
  "language_info": {
   "codemirror_mode": {
    "name": "ipython",
    "version": 3
   },
   "file_extension": ".py",
   "mimetype": "text/x-python",
   "name": "python",
   "nbconvert_exporter": "python",
   "pygments_lexer": "ipython3",
   "version": "3.10.5"
  }
 },
 "nbformat": 4,
 "nbformat_minor": 5
}
