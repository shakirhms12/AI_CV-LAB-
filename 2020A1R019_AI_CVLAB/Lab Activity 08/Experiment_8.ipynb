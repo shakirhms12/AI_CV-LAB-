{
 "cells": [
  {
   "cell_type": "markdown",
   "id": "07a98d93",
   "metadata": {},
   "source": [
    "### Implement the Image processing basics: Converting Image to RGB to BGR and to Grayscale, create a White/Black Color Image, how to draw shapes on Image."
   ]
  },
  {
   "cell_type": "code",
   "execution_count": 1,
   "id": "e443ee11",
   "metadata": {},
   "outputs": [],
   "source": [
    "import cv2\n",
    "import numpy as np"
   ]
  },
  {
   "cell_type": "code",
   "execution_count": 2,
   "id": "b3873521",
   "metadata": {},
   "outputs": [],
   "source": [
    "def convert_to_grayscale(image_path):\n",
    "    # Load the image\n",
    "    image = cv2.imread(image_path)\n",
    "    \n",
    "    # convert the image to grayscale\n",
    "    grayscale_image = cv2.cvtColor(image, cv2.COLOR_BGR2GRAY)\n",
    "    \n",
    "    # Display the original and grayscale images\n",
    "    cv2.imshow(\"Original Image\", image)\n",
    "    cv2.imshow(\"Grayscale Image\", grayscale_image)\n",
    "    cv2.waitKey(0)\n",
    "    cv2.destroyAllWindows()"
   ]
  },
  {
   "cell_type": "code",
   "execution_count": 3,
   "id": "cd79ff78",
   "metadata": {},
   "outputs": [],
   "source": [
    "def convert_to_bgr(image_path, output_path):\n",
    "    # Load the image\n",
    "    image = cv2.imread(image_path)\n",
    "    \n",
    "    # Convert the image to BGR color space\n",
    "    bgr_image = cv2.cvtColor(image, cv2.COLOR_RGB2BGR)\n",
    "    \n",
    "    # Display the original and BGR images\n",
    "    cv2.imshow(\"Original Image\", image)\n",
    "    cv2.imshow(\"BGR Image\", bgr_image)\n",
    "    cv2.waitKey(0)\n",
    "    cv2.destroyAllWindows()\n",
    "    \n",
    "    # Save the BGR image\n",
    "    cv2.imwrite(output_path, bgr_image)\n",
    "    print(\"BGR image saved as\", output_path)"
   ]
  },
  {
   "cell_type": "markdown",
   "id": "0b506b21",
   "metadata": {},
   "source": [
    "#### In this code, the convert_bgr_to_rgb function takes an image in BGR color space (image_bgr) and converts it to RGB color space using cv3. cvtColor with the cv2.COLOR_RGB2BGR"
   ]
  },
  {
   "cell_type": "code",
   "execution_count": 4,
   "id": "c6e671cd",
   "metadata": {},
   "outputs": [],
   "source": [
    "def convert_bgr_to_rgb(output_path):\n",
    "    # Load the image\n",
    "    image_bgr = cv2.imread(output_path)\n",
    "    \n",
    "    # Convert the image from BGR to RGB color space\n",
    "    image_rgb = cv2.cvtColor(image_bgr, cv2.COLOR_BGR2RGB)\n",
    "    \n",
    "    # Display the original BGR image and the converted RGB image\n",
    "    cv2.imshow(\"BGR Image\", image_bgr)\n",
    "    cv2.imshow(\"RGB Image\", image_rgb)\n",
    "    cv2.waitKey(0)\n",
    "    cv2.destroyAllWindows()"
   ]
  },
  {
   "cell_type": "code",
   "execution_count": 5,
   "id": "a60bd430",
   "metadata": {},
   "outputs": [],
   "source": [
    "# Image path\n",
    "image_path = (\"flower.jpg\")\n",
    "output_path = (\"flower_bgr.jpg\")"
   ]
  },
  {
   "cell_type": "code",
   "execution_count": 6,
   "id": "94702b06",
   "metadata": {},
   "outputs": [],
   "source": [
    "# Conver image to grayscale\n",
    "convert_to_grayscale(image_path)"
   ]
  },
  {
   "cell_type": "code",
   "execution_count": 7,
   "id": "93c96e8a",
   "metadata": {},
   "outputs": [
    {
     "name": "stdout",
     "output_type": "stream",
     "text": [
      "BGR image saved as flower_bgr.jpg\n"
     ]
    }
   ],
   "source": [
    "# convert to BGR and save it\n",
    "convert_to_bgr(image_path, output_path)"
   ]
  },
  {
   "cell_type": "code",
   "execution_count": 8,
   "id": "8e2608b2",
   "metadata": {},
   "outputs": [],
   "source": [
    "# convert BGR to RGB\n",
    "convert_bgr_to_rgb(output_path)"
   ]
  },
  {
   "cell_type": "code",
   "execution_count": 9,
   "id": "5504f51c",
   "metadata": {},
   "outputs": [],
   "source": [
    "def create_white_image(width, height):\n",
    "    # Create a white color image\n",
    "    white_image = np.ones((height, width, 3), dtype = np.uint8) * 255\n",
    "    \n",
    "    # Display the write image\n",
    "    cv2.imshow(\"White Image\", white_image)\n",
    "    cv2.waitKey(0)\n",
    "    cv2.destroyAllWindows()"
   ]
  },
  {
   "cell_type": "code",
   "execution_count": 10,
   "id": "30ef214f",
   "metadata": {},
   "outputs": [],
   "source": [
    "def create_black_image(width, height):\n",
    "    # Create a white color image\n",
    "    black_image = np.zeros((height, width, 3), dtype = np.uint8)\n",
    "    \n",
    "    # Display the write image\n",
    "    cv2.imshow(\"Black Image\", black_image)\n",
    "    cv2.waitKey(0)\n",
    "    cv2.destroyAllWindows()"
   ]
  },
  {
   "cell_type": "markdown",
   "id": "4d847e30",
   "metadata": {},
   "source": [
    "The resulting array is assigned to the variable black_image, representing a black color image."
   ]
  },
  {
   "cell_type": "code",
   "execution_count": 11,
   "id": "704509da",
   "metadata": {},
   "outputs": [],
   "source": [
    "def draw_shapes_on_image(image_path):\n",
    "    # Load the image\n",
    "    image = cv2.imread(image_path)\n",
    "    \n",
    "    # Draw a rectangle on the image\n",
    "    cv2.rectangle(image, (50, 50), (200, 200), (0, 255, 0), 2)\n",
    "    \n",
    "    # Draw a circle on the image\n",
    "    cv2.circle(image, (300, 150), 100, (0, 0, 255), 2)\n",
    "    \n",
    "    # Draw a line on the image\n",
    "    cv2.line(image, (400, 50), (400, 250), (255, 0, 0), 2)\n",
    "    \n",
    "    # Display the image with shapes\n",
    "    cv2.imshow(\"Image with Shapes\", image)\n",
    "    cv2.waitKey(0)\n",
    "    cv2.destroyAllWindows()"
   ]
  },
  {
   "cell_type": "code",
   "execution_count": 12,
   "id": "fb0e7fda",
   "metadata": {},
   "outputs": [],
   "source": [
    "# main program\n",
    "width, height = 400, 300"
   ]
  },
  {
   "cell_type": "code",
   "execution_count": 13,
   "id": "3904f30a",
   "metadata": {},
   "outputs": [],
   "source": [
    "# Create a white image\n",
    "create_white_image(width, height)"
   ]
  },
  {
   "cell_type": "code",
   "execution_count": 14,
   "id": "fa90e65f",
   "metadata": {},
   "outputs": [],
   "source": [
    "# Create a Black Image\n",
    "create_black_image(width, height)"
   ]
  },
  {
   "cell_type": "code",
   "execution_count": 15,
   "id": "974d0f61",
   "metadata": {},
   "outputs": [],
   "source": [
    "# Draw shapes on an image\n",
    "image_path = \"flower.jpg\"\n",
    "draw_shapes_on_image(image_path)"
   ]
  },
  {
   "cell_type": "code",
   "execution_count": null,
   "id": "8a72c4ba",
   "metadata": {},
   "outputs": [],
   "source": []
  }
 ],
 "metadata": {
  "kernelspec": {
   "display_name": "Python 3 (ipykernel)",
   "language": "python",
   "name": "python3"
  },
  "language_info": {
   "codemirror_mode": {
    "name": "ipython",
    "version": 3
   },
   "file_extension": ".py",
   "mimetype": "text/x-python",
   "name": "python",
   "nbconvert_exporter": "python",
   "pygments_lexer": "ipython3",
   "version": "3.10.5"
  }
 },
 "nbformat": 4,
 "nbformat_minor": 5
}
