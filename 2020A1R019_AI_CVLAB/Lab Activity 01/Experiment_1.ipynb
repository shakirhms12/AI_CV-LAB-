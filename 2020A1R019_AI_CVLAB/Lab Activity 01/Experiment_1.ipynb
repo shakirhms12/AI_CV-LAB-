{
 "cells": [
  {
   "cell_type": "code",
   "execution_count": 3,
   "id": "307feed2",
   "metadata": {},
   "outputs": [
    {
     "name": "stdout",
     "output_type": "stream",
     "text": [
      "\n",
      "The given Traning set\n",
      "\n",
      "['A', 'B', 'C', 'D', 'E', 'F', 'G']\n",
      "['Sunny', 'Warm', 'Normal', 'Strong', 'Warm', 'Same', 'Yes']\n",
      "['Sunny', 'High', 'High', 'Strong', 'Warm', 'Same', 'Yes']\n",
      "['Rainy', 'Cold', 'High', 'Strong', 'Warm', 'Change', 'No']\n",
      "['Sunny', 'Warm', 'High', 'Strong', 'Cool', 'Change', 'Yes']\n",
      "\n",
      "The intial value of hypothesis:\n",
      "\n",
      "['0', '0', '0']\n",
      "\n",
      "Find S:Finding a maximaly specific Hypothesis\n",
      "\n",
      "For Traning instance No:0 the hypothesis is : ['A', 'B', 'C']\n",
      "For Traning instance No:1 the hypothesis is : ['A', 'B', 'C']\n",
      "For Traning instance No:2 the hypothesis is : ['A', 'B', 'C']\n",
      "For Traning instance No:3 the hypothesis is : ['A', 'B', 'C']\n",
      "For Traning instance No:4 the hypothesis is : ['A', 'B', 'C']\n",
      "\n",
      "The MAxmally specified hypothesis for a given Traning Example:\n",
      "\n",
      "['A', 'B', 'C']\n"
     ]
    }
   ],
   "source": [
    "import csv\n",
    "num_attribute = 3\n",
    "a=[]\n",
    "print(\"\\nThe given Traning set\\n\")\n",
    "with open('Dataset01.csv','r')as csvfile:\n",
    "    reader = csv.reader(csvfile)\n",
    "    for row in reader:\n",
    "        a.append(row)\n",
    "        print(row)\n",
    "        \n",
    "print(\"\\nThe intial value of hypothesis:\\n\")\n",
    "hypothesis=['0']*num_attribute\n",
    "print(hypothesis)\n",
    "\n",
    "for j in range(0,num_attribute):\n",
    "    hypothesis[j]=a[0][j]\n",
    "    \n",
    "print(\"\\nFind S:Finding a maximaly specific Hypothesis\\n\")\n",
    "\n",
    "for i in range(0,len(a)):\n",
    "    if a[i][num_attribute]=='Positive':\n",
    "        for j in range(0,num_attribute):\n",
    "            if a[i][j]!=hypothesis[j]:\n",
    "                hypothesis[j]='?'\n",
    "            else:\n",
    "                hypothesis[j]=a[i][j]\n",
    "    print('For Traning instance No:{0} the hypothesis is :'.format(i),hypothesis)\n",
    "print(\"\\nThe MAxmally specified hypothesis for a given Traning Example:\\n\")\n",
    "print(hypothesis)"
   ]
  },
  {
   "cell_type": "code",
   "execution_count": null,
   "id": "6dc76f8f",
   "metadata": {},
   "outputs": [],
   "source": []
  }
 ],
 "metadata": {
  "kernelspec": {
   "display_name": "Python 3 (ipykernel)",
   "language": "python",
   "name": "python3"
  },
  "language_info": {
   "codemirror_mode": {
    "name": "ipython",
    "version": 3
   },
   "file_extension": ".py",
   "mimetype": "text/x-python",
   "name": "python",
   "nbconvert_exporter": "python",
   "pygments_lexer": "ipython3",
   "version": "3.10.5"
  }
 },
 "nbformat": 4,
 "nbformat_minor": 5
}
