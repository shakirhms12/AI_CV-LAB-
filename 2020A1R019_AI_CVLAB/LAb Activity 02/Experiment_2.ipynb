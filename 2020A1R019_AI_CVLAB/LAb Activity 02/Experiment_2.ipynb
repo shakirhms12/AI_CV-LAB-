{
 "cells": [
  {
   "cell_type": "markdown",
   "id": "67cd990b",
   "metadata": {},
   "source": [
    "#### Candidate Elimination <br/>\n",
    "For a given set of training data examples storednin a .CSV file, implement and demostrate the Data Visualization to output a description of the set of all hypotheses consistent with the training examples.<br/>"
   ]
  },
  {
   "cell_type": "code",
   "execution_count": 1,
   "id": "a8624be8",
   "metadata": {},
   "outputs": [],
   "source": [
    "import numpy as np\n",
    "import pandas as pd"
   ]
  },
  {
   "cell_type": "code",
   "execution_count": 2,
   "id": "2b455d9f",
   "metadata": {},
   "outputs": [
    {
     "name": "stdout",
     "output_type": "stream",
     "text": [
      "       A     B         C    D\n",
      "0    Big   Red    Cricle   No\n",
      "1  Samll   Red  Triangle   No\n",
      "2  Small   Red    Cricle  Yes\n",
      "3    Big  Blue    Cricle   No\n",
      "4  Small  Blue    Cricle  Yes\n"
     ]
    }
   ],
   "source": [
    "data = pd.DataFrame(data = pd.read_csv('dataSet02.csv'))\n",
    "print(data)"
   ]
  },
  {
   "cell_type": "code",
   "execution_count": 3,
   "id": "5a74750c",
   "metadata": {},
   "outputs": [
    {
     "name": "stdout",
     "output_type": "stream",
     "text": [
      "[['Big' 'Red' 'Cricle']\n",
      " ['Samll' 'Red' 'Triangle']\n",
      " ['Small' 'Red' 'Cricle']\n",
      " ['Big' 'Blue' 'Cricle']\n",
      " ['Small' 'Blue' 'Cricle']]\n"
     ]
    }
   ],
   "source": [
    "concept = np.array(data.iloc[:, 0:-1])\n",
    "print(concept)"
   ]
  },
  {
   "cell_type": "code",
   "execution_count": 4,
   "id": "6777f71f",
   "metadata": {},
   "outputs": [
    {
     "name": "stdout",
     "output_type": "stream",
     "text": [
      "['No' 'No' 'Yes' 'No' 'Yes']\n"
     ]
    }
   ],
   "source": [
    "target = np.array(data.iloc[:,-1])\n",
    "print(target)"
   ]
  },
  {
   "cell_type": "code",
   "execution_count": 5,
   "id": "ecfef2d5",
   "metadata": {},
   "outputs": [],
   "source": [
    "def learn(concepts, target):\n",
    "    specific_h = [0]*concept[0]\n",
    "    print(\"\\nInitialization of specific_h and general_h\")\n",
    "    print(specific_h)\n",
    "    specific_h02=specific_h\n",
    "    \n",
    "    general_h = [[\"?\" for i in range(len(specific_h))] for i in range(len(specific_h))]\n",
    "    print(general_h)\n",
    "    for i,h in enumerate(concept):\n",
    "        if target[i]==\"Yes\":\n",
    "            specific_h=concepts[i].copy() \n",
    "            break\n",
    "    \n",
    "        \n",
    "    \n",
    "    for i, h in enumerate(concepts):\n",
    "        \n",
    "        \n",
    "        if target[i] == \"Yes\":\n",
    "            for x in range(len(specific_h)):\n",
    "                \n",
    "                if h[x] != specific_h[x]:\n",
    "                    specific_h[x] = \"?\"\n",
    "                    general_h[x][x] = \"?\"\n",
    "        \n",
    "              \n",
    "                    \n",
    "        if target[i] == \"No\":\n",
    "            for x in range(len(specific_h)):\n",
    "                \n",
    "                if h[x] != specific_h[x]:\n",
    "                    general_h[x][x] = specific_h[x]\n",
    "                else:\n",
    "                    general_h[x][x] = \"?\"\n",
    "                    \n",
    "        print(\"\\nSteps of Candidate Elimination Algorithm\", i+1)\n",
    "        print(specific_h)\n",
    "        print(general_h)\n",
    "    \n",
    "    indices = [i for i, val in enumerate(general_h) if val == ['?', '?', '?']]          \n",
    "    for i in indices:\n",
    "            #remove those rows from general_h\n",
    "            general_h.remove(['?', '?','?'])\n",
    "    # Return Final Values\n",
    "    return specific_h, general_h"
   ]
  },
  {
   "cell_type": "code",
   "execution_count": 6,
   "id": "f754dac7",
   "metadata": {},
   "outputs": [
    {
     "name": "stdout",
     "output_type": "stream",
     "text": [
      "\n",
      "Initialization of specific_h and general_h\n",
      "['' '' '']\n",
      "[['?', '?', '?'], ['?', '?', '?'], ['?', '?', '?']]\n",
      "\n",
      "Steps of Candidate Elimination Algorithm 1\n",
      "['Small' 'Red' 'Cricle']\n",
      "[['Small', '?', '?'], ['?', '?', '?'], ['?', '?', '?']]\n",
      "\n",
      "Steps of Candidate Elimination Algorithm 2\n",
      "['Small' 'Red' 'Cricle']\n",
      "[['Small', '?', '?'], ['?', '?', '?'], ['?', '?', 'Cricle']]\n",
      "\n",
      "Steps of Candidate Elimination Algorithm 3\n",
      "['Small' 'Red' 'Cricle']\n",
      "[['Small', '?', '?'], ['?', '?', '?'], ['?', '?', 'Cricle']]\n",
      "\n",
      "Steps of Candidate Elimination Algorithm 4\n",
      "['Small' 'Red' 'Cricle']\n",
      "[['Small', '?', '?'], ['?', 'Red', '?'], ['?', '?', '?']]\n",
      "\n",
      "Steps of Candidate Elimination Algorithm 5\n",
      "['Small' '?' 'Cricle']\n",
      "[['Small', '?', '?'], ['?', '?', '?'], ['?', '?', '?']]\n",
      "\n",
      "Final Specific_h:\n",
      "['Small' '?' 'Cricle']\n",
      "\n",
      "Final General_h:\n",
      "[['Small', '?', '?']]\n"
     ]
    }
   ],
   "source": [
    "s_final, g_final = learn(concept, target)\n",
    "print(\"\\nFinal Specific_h:\", s_final, sep=\"\\n\")\n",
    "print(\"\\nFinal General_h:\", g_final, sep=\"\\n\")"
   ]
  },
  {
   "cell_type": "code",
   "execution_count": null,
   "id": "d9cccda9",
   "metadata": {},
   "outputs": [],
   "source": []
  },
  {
   "cell_type": "code",
   "execution_count": null,
   "id": "729232f4",
   "metadata": {},
   "outputs": [],
   "source": []
  }
 ],
 "metadata": {
  "kernelspec": {
   "display_name": "Python 3 (ipykernel)",
   "language": "python",
   "name": "python3"
  },
  "language_info": {
   "codemirror_mode": {
    "name": "ipython",
    "version": 3
   },
   "file_extension": ".py",
   "mimetype": "text/x-python",
   "name": "python",
   "nbconvert_exporter": "python",
   "pygments_lexer": "ipython3",
   "version": "3.10.5"
  }
 },
 "nbformat": 4,
 "nbformat_minor": 5
}
